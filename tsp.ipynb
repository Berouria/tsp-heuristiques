{
 "cells": [
  {
   "cell_type": "code",
   "execution_count": null,
   "id": "997f3688",
   "metadata": {},
   "outputs": [],
   "source": [
    "from tsp_utils import generer_villes, afficher_villes, sauvegarder_villes_csv"
   ]
  },
  {
   "cell_type": "code",
   "execution_count": null,
   "id": "1e2d056e",
   "metadata": {},
   "outputs": [
    {
     "ename": "",
     "evalue": "",
     "output_type": "error",
     "traceback": [
      "\u001b[1;31mLes cellules en cours d’exécution avec Python 3.11.0 nécessitent le package ipykernel.\n",
      "\u001b[1;31m<a href='command:jupyter.createPythonEnvAndSelectController'>Créer un environnement Python</a> avec les packages requis.\n",
      "\u001b[1;31mOu installez « ipykernel » en utilisant la commande : « c:/Users/myria/AppData/Local/Programs/Python/Python311/python.exe -m pip install ipykernel -U --user --force-reinstall »"
     ]
    }
   ],
   "source": [
    "cities = generate_cities(10)\n",
    "plot_cities(cities)"
   ]
  },
  {
   "cell_type": "code",
   "execution_count": 3,
   "id": "a6551c10",
   "metadata": {},
   "outputs": [
    {
     "ename": "ModuleNotFoundError",
     "evalue": "No module named 'matplotlib'",
     "output_type": "error",
     "traceback": [
      "\u001b[31m---------------------------------------------------------------------------\u001b[39m",
      "\u001b[31mModuleNotFoundError\u001b[39m                       Traceback (most recent call last)",
      "\u001b[36mCell\u001b[39m\u001b[36m \u001b[39m\u001b[32mIn[3]\u001b[39m\u001b[32m, line 1\u001b[39m\n\u001b[32m----> \u001b[39m\u001b[32m1\u001b[39m \u001b[38;5;28;01mfrom\u001b[39;00m\u001b[38;5;250m \u001b[39m\u001b[34;01mtsp_utils\u001b[39;00m\u001b[38;5;250m \u001b[39m\u001b[38;5;28;01mimport\u001b[39;00m generate_cities, plot_cities\n\u001b[32m      3\u001b[39m cities = generate_cities(\u001b[32m10\u001b[39m)\n\u001b[32m      4\u001b[39m plot_cities(cities)\n",
      "\u001b[36mFile \u001b[39m\u001b[32mc:\\Users\\myria\\tsp-heuristiques\\tsp_utils.py:2\u001b[39m\n\u001b[32m      1\u001b[39m \u001b[38;5;28;01mimport\u001b[39;00m\u001b[38;5;250m \u001b[39m\u001b[34;01mrandom\u001b[39;00m\n\u001b[32m----> \u001b[39m\u001b[32m2\u001b[39m \u001b[38;5;28;01mimport\u001b[39;00m\u001b[38;5;250m \u001b[39m\u001b[34;01mmatplotlib\u001b[39;00m\u001b[34;01m.\u001b[39;00m\u001b[34;01mpyplot\u001b[39;00m\u001b[38;5;250m \u001b[39m\u001b[38;5;28;01mas\u001b[39;00m\u001b[38;5;250m \u001b[39m\u001b[34;01mplt\u001b[39;00m\n\u001b[32m      4\u001b[39m \u001b[38;5;66;03m# Générer n villes aléatoires dans un carré de 100x100\u001b[39;00m\n\u001b[32m      5\u001b[39m \u001b[38;5;28;01mdef\u001b[39;00m\u001b[38;5;250m \u001b[39m\u001b[34mgenerer_villes\u001b[39m(n, largeur=\u001b[32m100\u001b[39m, hauteur=\u001b[32m100\u001b[39m):\n",
      "\u001b[31mModuleNotFoundError\u001b[39m: No module named 'matplotlib'"
     ]
    }
   ],
   "source": [
    "from tsp_utils import generate_cities, plot_cities\n",
    "\n",
    "cities = generate_cities(10)\n",
    "plot_cities(cities)"
   ]
  }
 ],
 "metadata": {
  "kernelspec": {
   "display_name": "Python 3",
   "language": "python",
   "name": "python3"
  },
  "language_info": {
   "codemirror_mode": {
    "name": "ipython",
    "version": 3
   },
   "file_extension": ".py",
   "mimetype": "text/x-python",
   "name": "python",
   "nbconvert_exporter": "python",
   "pygments_lexer": "ipython3",
   "version": "3.11.0"
  }
 },
 "nbformat": 4,
 "nbformat_minor": 5
}
