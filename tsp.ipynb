{
 "cells": [
  {
   "cell_type": "code",
   "execution_count": 8,
   "id": "5b0c3fa8",
   "metadata": {},
   "outputs": [
    {
     "ename": "ModuleNotFoundError",
     "evalue": "No module named 'matplotlib'",
     "output_type": "error",
     "traceback": [
      "\u001b[1;31m---------------------------------------------------------------------------\u001b[0m",
      "\u001b[1;31mModuleNotFoundError\u001b[0m                       Traceback (most recent call last)",
      "Cell \u001b[1;32mIn[8], line 2\u001b[0m\n\u001b[0;32m      1\u001b[0m \u001b[38;5;66;03m# Import des fonctions utiles\u001b[39;00m\n\u001b[1;32m----> 2\u001b[0m \u001b[38;5;28;01mfrom\u001b[39;00m\u001b[38;5;250m \u001b[39m\u001b[38;5;21;01mtsp_utils\u001b[39;00m\u001b[38;5;250m \u001b[39m\u001b[38;5;28;01mimport\u001b[39;00m generer_villes, afficher_villes, calculer_matrice_distances\n\u001b[0;32m      4\u001b[0m \u001b[38;5;66;03m# Génération de 10 villes aléatoires\u001b[39;00m\n\u001b[0;32m      5\u001b[0m villes \u001b[38;5;241m=\u001b[39m generer_villes(\u001b[38;5;241m10\u001b[39m)\n",
      "File \u001b[1;32mc:\\Users\\esthe\\tsp-heuristiques\\tsp_utils.py:2\u001b[0m\n\u001b[0;32m      1\u001b[0m \u001b[38;5;28;01mimport\u001b[39;00m\u001b[38;5;250m \u001b[39m\u001b[38;5;21;01mrandom\u001b[39;00m\n\u001b[1;32m----> 2\u001b[0m \u001b[38;5;28;01mimport\u001b[39;00m\u001b[38;5;250m \u001b[39m\u001b[38;5;21;01mmatplotlib\u001b[39;00m\u001b[38;5;21;01m.\u001b[39;00m\u001b[38;5;21;01mpyplot\u001b[39;00m\u001b[38;5;250m \u001b[39m\u001b[38;5;28;01mas\u001b[39;00m\u001b[38;5;250m \u001b[39m\u001b[38;5;21;01mplt\u001b[39;00m\n\u001b[0;32m      3\u001b[0m \u001b[38;5;28;01mimport\u001b[39;00m\u001b[38;5;250m \u001b[39m\u001b[38;5;21;01mtime\u001b[39;00m\n\u001b[0;32m      4\u001b[0m \u001b[38;5;28;01mimport\u001b[39;00m\u001b[38;5;250m \u001b[39m\u001b[38;5;21;01mmath\u001b[39;00m\n",
      "\u001b[1;31mModuleNotFoundError\u001b[0m: No module named 'matplotlib'"
     ]
    }
   ],
   "source": [
    "# Import des fonctions utiles\n",
    "from tsp_utils import generer_villes, afficher_villes, calculer_matrice_distances\n",
    "\n",
    "# Génération de 10 villes aléatoires\n",
    "villes = generer_villes(10)\n",
    "\n",
    "# Affichage des villes sur un plan\n",
    "afficher_villes(villes)\n",
    "\n",
    "# Calcul de la matrice des distances euclidiennes\n",
    "distances = calculer_matrice_distances(villes)\n",
    "\n",
    "# Affichage de la matrice des distances\n",
    "for row in distances:\n",
    "    print(row)\n"
   ]
  },
  {
   "cell_type": "code",
   "execution_count": 1,
   "id": "d0b40079",
   "metadata": {},
   "outputs": [
    {
     "name": "stdout",
     "output_type": "stream",
     "text": [
      "\n",
      "--- Test avec 10 villes ---\n",
      "Chemin trouvé : [0, 8, 3, 1, 5, 4, 6, 9, 7, 2, 0]\n",
      "Distance totale : 372.19\n",
      "Temps d'exécution : 0.0 secondes\n",
      "\n",
      "--- Test avec 20 villes ---\n",
      "Chemin trouvé : [0, 7, 12, 16, 1, 17, 8, 15, 14, 6, 3, 10, 9, 11, 2, 19, 13, 18, 5, 4, 0]\n",
      "Distance totale : 501.7\n",
      "Temps d'exécution : 0.0 secondes\n",
      "\n",
      "--- Test avec 50 villes ---\n",
      "Chemin trouvé : [0, 42, 41, 20, 39, 14, 22, 8, 1, 49, 6, 38, 32, 16, 44, 11, 7, 5, 17, 34, 2, 47, 19, 29, 24, 26, 10, 12, 21, 13, 28, 45, 37, 46, 36, 9, 33, 35, 27, 31, 4, 25, 18, 15, 3, 40, 23, 30, 43, 48, 0]\n",
      "Distance totale : 670.97\n",
      "Temps d'exécution : 0.0 secondes\n",
      "\n",
      "--- Test avec 100 villes ---\n",
      "Chemin trouvé : [0, 24, 13, 59, 63, 98, 62, 36, 31, 83, 44, 61, 88, 56, 96, 37, 41, 26, 70, 39, 40, 84, 74, 97, 5, 17, 12, 76, 20, 73, 57, 11, 71, 64, 27, 65, 8, 48, 15, 33, 21, 60, 16, 80, 82, 92, 29, 78, 38, 54, 2, 58, 68, 81, 67, 47, 4, 85, 91, 86, 34, 93, 94, 75, 95, 99, 55, 35, 42, 50, 9, 30, 72, 87, 89, 7, 51, 45, 90, 3, 25, 10, 6, 46, 49, 43, 22, 66, 79, 52, 53, 14, 77, 69, 32, 1, 28, 23, 19, 18, 0]\n",
      "Distance totale : 1039.93\n",
      "Temps d'exécution : 0.001 secondes\n"
     ]
    }
   ],
   "source": [
    "from tsp_utils import generer_villes, calculer_matrice_distances, nearest_neighbor\n",
    "\n",
    "for n in [10, 20, 50, 100]:\n",
    "    print(f\"\\n--- Test avec {n} villes ---\")\n",
    "    villes = generer_villes(n)\n",
    "    distances = calculer_matrice_distances(villes)\n",
    "    chemin, total, temps = nearest_neighbor(villes, distances)\n",
    "\n",
    "    print(\"Chemin trouvé :\", chemin)\n",
    "    print(\"Distance totale :\", round(total, 2))\n",
    "    print(\"Temps d'exécution :\", round(temps, 4), \"secondes\")\n"
   ]
  },
  {
   "cell_type": "markdown",
   "id": "fe38e310",
   "metadata": {},
   "source": [
    "## Visualisation des solutions\n",
    "\n",
    "Ci-desouss, les trajets obtenus avec les deux heuristiques implémentées sont affichés :\n",
    "- En bleu : Plus proche voisin (Nearest Neighbor)\n",
    "- En vert : Heuristique d’insertion\n",
    "\n",
    "Les distances totales sont indiquées dans les titres des graphiques."
   ]
  },
  {
   "cell_type": "code",
   "execution_count": 2,
   "id": "b43850cc",
   "metadata": {},
   "outputs": [
    {
     "ename": "NameError",
     "evalue": "name 'plt' is not defined",
     "output_type": "error",
     "traceback": [
      "\u001b[1;31m---------------------------------------------------------------------------\u001b[0m",
      "\u001b[1;31mNameError\u001b[0m                                 Traceback (most recent call last)",
      "Cell \u001b[1;32mIn[2], line 17\u001b[0m\n\u001b[0;32m     14\u001b[0m distances \u001b[38;5;241m=\u001b[39m calculer_matrice_distances(villes)\n\u001b[0;32m     16\u001b[0m chemin_nn, dist_nn, _ \u001b[38;5;241m=\u001b[39m nearest_neighbor(villes, distances)\n\u001b[1;32m---> 17\u001b[0m \u001b[43mafficher_chemin\u001b[49m\u001b[43m(\u001b[49m\u001b[43mvilles\u001b[49m\u001b[43m,\u001b[49m\u001b[43m \u001b[49m\u001b[43mchemin_nn\u001b[49m\u001b[43m,\u001b[49m\u001b[43m \u001b[49m\u001b[43mtitre\u001b[49m\u001b[38;5;241;43m=\u001b[39;49m\u001b[38;5;124;43mf\u001b[39;49m\u001b[38;5;124;43m\"\u001b[39;49m\u001b[38;5;124;43mNearest Neighbor – \u001b[39;49m\u001b[38;5;132;43;01m{\u001b[39;49;00m\u001b[43mn\u001b[49m\u001b[38;5;132;43;01m}\u001b[39;49;00m\u001b[38;5;124;43m villes\u001b[39;49m\u001b[38;5;124;43m\"\u001b[39;49m\u001b[43m,\u001b[49m\u001b[43m \u001b[49m\u001b[43mdistance\u001b[49m\u001b[38;5;241;43m=\u001b[39;49m\u001b[43mdist_nn\u001b[49m\u001b[43m)\u001b[49m\n\u001b[0;32m     19\u001b[0m chemin_ins, dist_ins, _ \u001b[38;5;241m=\u001b[39m insertion_heuristique(villes, distances)\n\u001b[0;32m     20\u001b[0m afficher_chemin(villes, chemin_ins, titre\u001b[38;5;241m=\u001b[39m\u001b[38;5;124mf\u001b[39m\u001b[38;5;124m\"\u001b[39m\u001b[38;5;124mInsertion – \u001b[39m\u001b[38;5;132;01m{\u001b[39;00mn\u001b[38;5;132;01m}\u001b[39;00m\u001b[38;5;124m villes\u001b[39m\u001b[38;5;124m\"\u001b[39m, couleur\u001b[38;5;241m=\u001b[39m\u001b[38;5;124m\"\u001b[39m\u001b[38;5;124mgreen\u001b[39m\u001b[38;5;124m\"\u001b[39m, distance\u001b[38;5;241m=\u001b[39mdist_ins)\n",
      "File \u001b[1;32mc:\\Users\\esthe\\tsp-heuristiques\\tsp_utils.py:127\u001b[0m, in \u001b[0;36mafficher_chemin\u001b[1;34m(villes, chemin, titre, couleur, distance)\u001b[0m\n\u001b[0;32m    124\u001b[0m xs \u001b[38;5;241m=\u001b[39m [villes[i][\u001b[38;5;241m0\u001b[39m] \u001b[38;5;28;01mfor\u001b[39;00m i \u001b[38;5;129;01min\u001b[39;00m chemin] \u001b[38;5;241m+\u001b[39m [villes[chemin[\u001b[38;5;241m0\u001b[39m]][\u001b[38;5;241m0\u001b[39m]]\n\u001b[0;32m    125\u001b[0m ys \u001b[38;5;241m=\u001b[39m [villes[i][\u001b[38;5;241m1\u001b[39m] \u001b[38;5;28;01mfor\u001b[39;00m i \u001b[38;5;129;01min\u001b[39;00m chemin] \u001b[38;5;241m+\u001b[39m [villes[chemin[\u001b[38;5;241m0\u001b[39m]][\u001b[38;5;241m1\u001b[39m]]\n\u001b[1;32m--> 127\u001b[0m \u001b[43mplt\u001b[49m\u001b[38;5;241m.\u001b[39mfigure(figsize\u001b[38;5;241m=\u001b[39m(\u001b[38;5;241m8\u001b[39m, \u001b[38;5;241m6\u001b[39m))\n\u001b[0;32m    128\u001b[0m plt\u001b[38;5;241m.\u001b[39mscatter(\u001b[38;5;241m*\u001b[39m\u001b[38;5;28mzip\u001b[39m(\u001b[38;5;241m*\u001b[39mvilles), c\u001b[38;5;241m=\u001b[39m\u001b[38;5;124m'\u001b[39m\u001b[38;5;124mblack\u001b[39m\u001b[38;5;124m'\u001b[39m, zorder\u001b[38;5;241m=\u001b[39m\u001b[38;5;241m2\u001b[39m)\n\u001b[0;32m    129\u001b[0m plt\u001b[38;5;241m.\u001b[39mplot(xs, ys, c\u001b[38;5;241m=\u001b[39mcouleur, zorder\u001b[38;5;241m=\u001b[39m\u001b[38;5;241m1\u001b[39m, linewidth\u001b[38;5;241m=\u001b[39m\u001b[38;5;241m2\u001b[39m, marker\u001b[38;5;241m=\u001b[39m\u001b[38;5;124m'\u001b[39m\u001b[38;5;124mo\u001b[39m\u001b[38;5;124m'\u001b[39m, label\u001b[38;5;241m=\u001b[39m\u001b[38;5;124m\"\u001b[39m\u001b[38;5;124mChemin\u001b[39m\u001b[38;5;124m\"\u001b[39m)\n",
      "\u001b[1;31mNameError\u001b[0m: name 'plt' is not defined"
     ]
    }
   ],
   "source": [
    "import importlib\n",
    "import tsp_utils\n",
    "importlib.reload(tsp_utils)\n",
    "from tsp_utils import (\n",
    "    generer_villes,\n",
    "    calculer_matrice_distances,\n",
    "    nearest_neighbor,\n",
    "    insertion_heuristique,\n",
    "    afficher_chemin\n",
    ")\n",
    "\n",
    "for n in [10, 20, 50, 100]:\n",
    "    villes = generer_villes(n)\n",
    "    distances = calculer_matrice_distances(villes)\n",
    "    \n",
    "    chemin_nn, dist_nn, _ = nearest_neighbor(villes, distances)\n",
    "    afficher_chemin(villes, chemin_nn, titre=f\"Nearest Neighbor – {n} villes\", distance=dist_nn)\n",
    "    \n",
    "    chemin_ins, dist_ins, _ = insertion_heuristique(villes, distances)\n",
    "    afficher_chemin(villes, chemin_ins, titre=f\"Insertion – {n} villes\", couleur=\"green\", distance=dist_ins)"
   ]
  },
  {
   "cell_type": "code",
   "execution_count": 5,
   "id": "180cb7a5",
   "metadata": {},
   "outputs": [
    {
     "ename": "ModuleNotFoundError",
     "evalue": "No module named 'matplotlib'",
     "output_type": "error",
     "traceback": [
      "\u001b[1;31m---------------------------------------------------------------------------\u001b[0m",
      "\u001b[1;31mModuleNotFoundError\u001b[0m                       Traceback (most recent call last)",
      "Cell \u001b[1;32mIn[5], line 1\u001b[0m\n\u001b[1;32m----> 1\u001b[0m \u001b[38;5;28;01mfrom\u001b[39;00m\u001b[38;5;250m \u001b[39m\u001b[38;5;21;01mtsp_utils\u001b[39;00m\u001b[38;5;250m \u001b[39m\u001b[38;5;28;01mimport\u001b[39;00m generer_villes, calculer_matrice_distances, nearest_neighbor, insertion_heuristique, mst_borne_inferieure\n\u001b[0;32m      3\u001b[0m \u001b[38;5;66;03m# Nombre de villes\u001b[39;00m\n\u001b[0;32m      4\u001b[0m n \u001b[38;5;241m=\u001b[39m \u001b[38;5;241m20\u001b[39m\n",
      "File \u001b[1;32mc:\\Users\\esthe\\tsp-heuristiques\\tsp_utils.py:2\u001b[0m\n\u001b[0;32m      1\u001b[0m \u001b[38;5;28;01mimport\u001b[39;00m\u001b[38;5;250m \u001b[39m\u001b[38;5;21;01mrandom\u001b[39;00m\n\u001b[1;32m----> 2\u001b[0m \u001b[38;5;28;01mimport\u001b[39;00m\u001b[38;5;250m \u001b[39m\u001b[38;5;21;01mmatplotlib\u001b[39;00m\u001b[38;5;21;01m.\u001b[39;00m\u001b[38;5;21;01mpyplot\u001b[39;00m\u001b[38;5;250m \u001b[39m\u001b[38;5;28;01mas\u001b[39;00m\u001b[38;5;250m \u001b[39m\u001b[38;5;21;01mplt\u001b[39;00m\n\u001b[0;32m      3\u001b[0m \u001b[38;5;28;01mimport\u001b[39;00m\u001b[38;5;250m \u001b[39m\u001b[38;5;21;01mtime\u001b[39;00m\n\u001b[0;32m      4\u001b[0m \u001b[38;5;28;01mimport\u001b[39;00m\u001b[38;5;250m \u001b[39m\u001b[38;5;21;01mmath\u001b[39;00m\n",
      "\u001b[1;31mModuleNotFoundError\u001b[0m: No module named 'matplotlib'"
     ]
    }
   ],
   "source": [
    "from tsp_utils import generer_villes, calculer_matrice_distances, nearest_neighbor, insertion_heuristique, mst_borne_inferieure\n",
    "\n",
    "# Nombre de villes\n",
    "n = 20\n",
    "\n",
    "# Génération des données\n",
    "villes = generer_villes(n)\n",
    "distances = calculer_matrice_distances(villes)\n",
    "\n",
    "# Calcul de la borne inférieure par MST\n",
    "borne_mst = mst_borne_inferieure(distances)\n",
    "\n",
    "# Heuristique : Nearest Neighbor\n",
    "chemin_nn, dist_nn, t_nn = nearest_neighbor(villes, distances)\n",
    "qualite_nn = 100 * borne_mst / dist_nn\n",
    "\n",
    "# Heuristique : Insertion\n",
    "chemin_ins, dist_ins, t_ins = insertion_heuristique(villes, distances)\n",
    "qualite_ins = 100 * borne_mst / dist_ins\n",
    "\n",
    "# Affichage\n",
    "print(f\"📏 Borne MST : {borne_mst:.2f}\\n\")\n",
    "\n",
    "print(\"🔹 Nearest Neighbor\")\n",
    "print(f\"  Distance : {dist_nn:.2f}\")\n",
    "print(f\"  Temps : {t_nn:.4f} s\")\n",
    "print(f\"  Qualité : {qualite_nn:.2f} %\\n\")\n",
    "\n",
    "print(\"🔹 Insertion\")\n",
    "print(f\"  Distance : {dist_ins:.2f}\")\n",
    "print(f\"  Temps : {t_ins:.4f} s\")\n",
    "print(f\"  Qualité : {qualite_ins:.2f} %\")\n"
   ]
  },
  {
   "cell_type": "code",
   "execution_count": 6,
   "id": "010e27dd",
   "metadata": {},
   "outputs": [
    {
     "ename": "ModuleNotFoundError",
     "evalue": "No module named 'pandas'",
     "output_type": "error",
     "traceback": [
      "\u001b[1;31m---------------------------------------------------------------------------\u001b[0m",
      "\u001b[1;31mModuleNotFoundError\u001b[0m                       Traceback (most recent call last)",
      "Cell \u001b[1;32mIn[6], line 1\u001b[0m\n\u001b[1;32m----> 1\u001b[0m \u001b[38;5;28;01mimport\u001b[39;00m\u001b[38;5;250m \u001b[39m\u001b[38;5;21;01mpandas\u001b[39;00m\u001b[38;5;250m \u001b[39m\u001b[38;5;28;01mas\u001b[39;00m\u001b[38;5;250m \u001b[39m\u001b[38;5;21;01mpd\u001b[39;00m\n\u001b[0;32m      3\u001b[0m \u001b[38;5;28;01mdef\u001b[39;00m\u001b[38;5;250m \u001b[39m\u001b[38;5;21mtester_heuristiques_mst\u001b[39m(tailles\u001b[38;5;241m=\u001b[39m[\u001b[38;5;241m10\u001b[39m, \u001b[38;5;241m20\u001b[39m, \u001b[38;5;241m50\u001b[39m, \u001b[38;5;241m100\u001b[39m], nb_essais\u001b[38;5;241m=\u001b[39m\u001b[38;5;241m3\u001b[39m):\n\u001b[0;32m      4\u001b[0m     resultats \u001b[38;5;241m=\u001b[39m []\n",
      "\u001b[1;31mModuleNotFoundError\u001b[0m: No module named 'pandas'"
     ]
    }
   ],
   "source": [
    "import pandas as pd\n",
    "\n",
    "def tester_heuristiques_mst(tailles=[10, 20, 50, 100], nb_essais=3):\n",
    "    resultats = []\n",
    "\n",
    "    for n in tailles:\n",
    "        for _ in range(nb_essais):\n",
    "            villes = generer_villes(n)\n",
    "            distances = calculer_matrice_distances(villes)\n",
    "            borne_mst = mst_borne_inferieure(distances)\n",
    "\n",
    "            # Nearest Neighbor\n",
    "            chemin_nn, dist_nn, t_nn = nearest_neighbor(villes, distances)\n",
    "            qualite_nn = 100 * borne_mst / dist_nn\n",
    "\n",
    "            # Insertion\n",
    "            chemin_ins, dist_ins, t_ins = insertion_heuristique(villes, distances)\n",
    "            qualite_ins = 100 * borne_mst / dist_ins\n",
    "\n",
    "            # Ajout des deux lignes au tableau\n",
    "            resultats.append({\n",
    "                \"Taille\": n,\n",
    "                \"Heuristique\": \"Nearest Neighbor\",\n",
    "                \"Distance\": dist_nn,\n",
    "                \"Temps (s)\": t_nn,\n",
    "                \"Qualité (%)\": qualite_nn\n",
    "            })\n",
    "\n",
    "            resultats.append({\n",
    "                \"Taille\": n,\n",
    "                \"Heuristique\": \"Insertion\",\n",
    "                \"Distance\": dist_ins,\n",
    "                \"Temps (s)\": t_ins,\n",
    "                \"Qualité (%)\": qualite_ins\n",
    "            })\n",
    "\n",
    "    return pd.DataFrame(resultats)\n"
   ]
  },
  {
   "cell_type": "code",
   "execution_count": 7,
   "id": "a0f6e20c",
   "metadata": {},
   "outputs": [
    {
     "ename": "NameError",
     "evalue": "name 'tester_heuristiques_mst' is not defined",
     "output_type": "error",
     "traceback": [
      "\u001b[1;31m---------------------------------------------------------------------------\u001b[0m",
      "\u001b[1;31mNameError\u001b[0m                                 Traceback (most recent call last)",
      "Cell \u001b[1;32mIn[7], line 1\u001b[0m\n\u001b[1;32m----> 1\u001b[0m df_resultats \u001b[38;5;241m=\u001b[39m \u001b[43mtester_heuristiques_mst\u001b[49m()\n\u001b[0;32m      2\u001b[0m df_resultats\n",
      "\u001b[1;31mNameError\u001b[0m: name 'tester_heuristiques_mst' is not defined"
     ]
    }
   ],
   "source": [
    "df_resultats = tester_heuristiques_mst()\n",
    "df_resultats\n"
   ]
  }
 ],
 "metadata": {
  "kernelspec": {
   "display_name": "Python 3",
   "language": "python",
   "name": "python3"
  },
  "language_info": {
   "codemirror_mode": {
    "name": "ipython",
    "version": 3
   },
   "file_extension": ".py",
   "mimetype": "text/x-python",
   "name": "python",
   "nbconvert_exporter": "python",
   "pygments_lexer": "ipython3",
   "version": "3.9.13"
  }
 },
 "nbformat": 4,
 "nbformat_minor": 5
}
